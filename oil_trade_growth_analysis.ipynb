{
  "nbformat": 4,
  "nbformat_minor": 0,
  "metadata": {
    "colab": {
      "provenance": [],
      "authorship_tag": "ABX9TyO5qcjH0zhrxPQuMhCAETsh",
      "include_colab_link": true
    },
    "kernelspec": {
      "name": "python3",
      "display_name": "Python 3"
    },
    "language_info": {
      "name": "python"
    }
  },
  "cells": [
    {
      "cell_type": "markdown",
      "metadata": {
        "id": "view-in-github",
        "colab_type": "text"
      },
      "source": [
        "<a href=\"https://colab.research.google.com/github/umoru-ogwu/umoru-ogwu/blob/main/oil_trade_growth_analysis.ipynb\" target=\"_parent\"><img src=\"https://colab.research.google.com/assets/colab-badge.svg\" alt=\"Open In Colab\"/></a>"
      ]
    },
    {
      "cell_type": "markdown",
      "source": [
        "**Import Libraries**"
      ],
      "metadata": {
        "id": "PJ20itZkPgB9"
      }
    },
    {
      "cell_type": "code",
      "execution_count": 1,
      "metadata": {
        "id": "5DWmK8MZLUkh"
      },
      "outputs": [],
      "source": [
        "import pandas as pd\n",
        "import numpy as np\n",
        "import matplotlib.pyplot as plt\n",
        "import seaborn as sns"
      ]
    },
    {
      "cell_type": "markdown",
      "source": [
        "**Load & Inspect Data**"
      ],
      "metadata": {
        "id": "4O_vgh6JOrEW"
      }
    },
    {
      "cell_type": "code",
      "source": [
        "df = pd.read_excel(\"/content/GDP Analysis/oil trade dataset.xlsx\")\n",
        "\n",
        "df.head()"
      ],
      "metadata": {
        "colab": {
          "base_uri": "https://localhost:8080/",
          "height": 206
        },
        "id": "QUfayYKTNjBc",
        "outputId": "703f03f5-2d55-4772-f4ad-ce49c0ddb0e4"
      },
      "execution_count": 2,
      "outputs": [
        {
          "output_type": "execute_result",
          "data": {
            "text/plain": [
              "   year  gdp_growth  oil_exports  inflation  exchange_rate  oil_price\n",
              "0  2000         5.3         2118        6.9         102.11      27.60\n",
              "1  2001         4.4         2118       18.9         111.23      23.00\n",
              "2  2002         3.8         2118       12.9         120.58      24.36\n",
              "3  2003        10.4         2329       14.0         129.22      28.10\n",
              "4  2004        33.7         2329       15.0         133.50      36.05"
            ],
            "text/html": [
              "\n",
              "  <div id=\"df-fe32f784-a661-4a50-8019-983b998acda0\" class=\"colab-df-container\">\n",
              "    <div>\n",
              "<style scoped>\n",
              "    .dataframe tbody tr th:only-of-type {\n",
              "        vertical-align: middle;\n",
              "    }\n",
              "\n",
              "    .dataframe tbody tr th {\n",
              "        vertical-align: top;\n",
              "    }\n",
              "\n",
              "    .dataframe thead th {\n",
              "        text-align: right;\n",
              "    }\n",
              "</style>\n",
              "<table border=\"1\" class=\"dataframe\">\n",
              "  <thead>\n",
              "    <tr style=\"text-align: right;\">\n",
              "      <th></th>\n",
              "      <th>year</th>\n",
              "      <th>gdp_growth</th>\n",
              "      <th>oil_exports</th>\n",
              "      <th>inflation</th>\n",
              "      <th>exchange_rate</th>\n",
              "      <th>oil_price</th>\n",
              "    </tr>\n",
              "  </thead>\n",
              "  <tbody>\n",
              "    <tr>\n",
              "      <th>0</th>\n",
              "      <td>2000</td>\n",
              "      <td>5.3</td>\n",
              "      <td>2118</td>\n",
              "      <td>6.9</td>\n",
              "      <td>102.11</td>\n",
              "      <td>27.60</td>\n",
              "    </tr>\n",
              "    <tr>\n",
              "      <th>1</th>\n",
              "      <td>2001</td>\n",
              "      <td>4.4</td>\n",
              "      <td>2118</td>\n",
              "      <td>18.9</td>\n",
              "      <td>111.23</td>\n",
              "      <td>23.00</td>\n",
              "    </tr>\n",
              "    <tr>\n",
              "      <th>2</th>\n",
              "      <td>2002</td>\n",
              "      <td>3.8</td>\n",
              "      <td>2118</td>\n",
              "      <td>12.9</td>\n",
              "      <td>120.58</td>\n",
              "      <td>24.36</td>\n",
              "    </tr>\n",
              "    <tr>\n",
              "      <th>3</th>\n",
              "      <td>2003</td>\n",
              "      <td>10.4</td>\n",
              "      <td>2329</td>\n",
              "      <td>14.0</td>\n",
              "      <td>129.22</td>\n",
              "      <td>28.10</td>\n",
              "    </tr>\n",
              "    <tr>\n",
              "      <th>4</th>\n",
              "      <td>2004</td>\n",
              "      <td>33.7</td>\n",
              "      <td>2329</td>\n",
              "      <td>15.0</td>\n",
              "      <td>133.50</td>\n",
              "      <td>36.05</td>\n",
              "    </tr>\n",
              "  </tbody>\n",
              "</table>\n",
              "</div>\n",
              "    <div class=\"colab-df-buttons\">\n",
              "\n",
              "  <div class=\"colab-df-container\">\n",
              "    <button class=\"colab-df-convert\" onclick=\"convertToInteractive('df-fe32f784-a661-4a50-8019-983b998acda0')\"\n",
              "            title=\"Convert this dataframe to an interactive table.\"\n",
              "            style=\"display:none;\">\n",
              "\n",
              "  <svg xmlns=\"http://www.w3.org/2000/svg\" height=\"24px\" viewBox=\"0 -960 960 960\">\n",
              "    <path d=\"M120-120v-720h720v720H120Zm60-500h600v-160H180v160Zm220 220h160v-160H400v160Zm0 220h160v-160H400v160ZM180-400h160v-160H180v160Zm440 0h160v-160H620v160ZM180-180h160v-160H180v160Zm440 0h160v-160H620v160Z\"/>\n",
              "  </svg>\n",
              "    </button>\n",
              "\n",
              "  <style>\n",
              "    .colab-df-container {\n",
              "      display:flex;\n",
              "      gap: 12px;\n",
              "    }\n",
              "\n",
              "    .colab-df-convert {\n",
              "      background-color: #E8F0FE;\n",
              "      border: none;\n",
              "      border-radius: 50%;\n",
              "      cursor: pointer;\n",
              "      display: none;\n",
              "      fill: #1967D2;\n",
              "      height: 32px;\n",
              "      padding: 0 0 0 0;\n",
              "      width: 32px;\n",
              "    }\n",
              "\n",
              "    .colab-df-convert:hover {\n",
              "      background-color: #E2EBFA;\n",
              "      box-shadow: 0px 1px 2px rgba(60, 64, 67, 0.3), 0px 1px 3px 1px rgba(60, 64, 67, 0.15);\n",
              "      fill: #174EA6;\n",
              "    }\n",
              "\n",
              "    .colab-df-buttons div {\n",
              "      margin-bottom: 4px;\n",
              "    }\n",
              "\n",
              "    [theme=dark] .colab-df-convert {\n",
              "      background-color: #3B4455;\n",
              "      fill: #D2E3FC;\n",
              "    }\n",
              "\n",
              "    [theme=dark] .colab-df-convert:hover {\n",
              "      background-color: #434B5C;\n",
              "      box-shadow: 0px 1px 3px 1px rgba(0, 0, 0, 0.15);\n",
              "      filter: drop-shadow(0px 1px 2px rgba(0, 0, 0, 0.3));\n",
              "      fill: #FFFFFF;\n",
              "    }\n",
              "  </style>\n",
              "\n",
              "    <script>\n",
              "      const buttonEl =\n",
              "        document.querySelector('#df-fe32f784-a661-4a50-8019-983b998acda0 button.colab-df-convert');\n",
              "      buttonEl.style.display =\n",
              "        google.colab.kernel.accessAllowed ? 'block' : 'none';\n",
              "\n",
              "      async function convertToInteractive(key) {\n",
              "        const element = document.querySelector('#df-fe32f784-a661-4a50-8019-983b998acda0');\n",
              "        const dataTable =\n",
              "          await google.colab.kernel.invokeFunction('convertToInteractive',\n",
              "                                                    [key], {});\n",
              "        if (!dataTable) return;\n",
              "\n",
              "        const docLinkHtml = 'Like what you see? Visit the ' +\n",
              "          '<a target=\"_blank\" href=https://colab.research.google.com/notebooks/data_table.ipynb>data table notebook</a>'\n",
              "          + ' to learn more about interactive tables.';\n",
              "        element.innerHTML = '';\n",
              "        dataTable['output_type'] = 'display_data';\n",
              "        await google.colab.output.renderOutput(dataTable, element);\n",
              "        const docLink = document.createElement('div');\n",
              "        docLink.innerHTML = docLinkHtml;\n",
              "        element.appendChild(docLink);\n",
              "      }\n",
              "    </script>\n",
              "  </div>\n",
              "\n",
              "\n",
              "    <div id=\"df-3286576e-79dc-401a-8d56-3cb16baf7a0b\">\n",
              "      <button class=\"colab-df-quickchart\" onclick=\"quickchart('df-3286576e-79dc-401a-8d56-3cb16baf7a0b')\"\n",
              "                title=\"Suggest charts\"\n",
              "                style=\"display:none;\">\n",
              "\n",
              "<svg xmlns=\"http://www.w3.org/2000/svg\" height=\"24px\"viewBox=\"0 0 24 24\"\n",
              "     width=\"24px\">\n",
              "    <g>\n",
              "        <path d=\"M19 3H5c-1.1 0-2 .9-2 2v14c0 1.1.9 2 2 2h14c1.1 0 2-.9 2-2V5c0-1.1-.9-2-2-2zM9 17H7v-7h2v7zm4 0h-2V7h2v10zm4 0h-2v-4h2v4z\"/>\n",
              "    </g>\n",
              "</svg>\n",
              "      </button>\n",
              "\n",
              "<style>\n",
              "  .colab-df-quickchart {\n",
              "      --bg-color: #E8F0FE;\n",
              "      --fill-color: #1967D2;\n",
              "      --hover-bg-color: #E2EBFA;\n",
              "      --hover-fill-color: #174EA6;\n",
              "      --disabled-fill-color: #AAA;\n",
              "      --disabled-bg-color: #DDD;\n",
              "  }\n",
              "\n",
              "  [theme=dark] .colab-df-quickchart {\n",
              "      --bg-color: #3B4455;\n",
              "      --fill-color: #D2E3FC;\n",
              "      --hover-bg-color: #434B5C;\n",
              "      --hover-fill-color: #FFFFFF;\n",
              "      --disabled-bg-color: #3B4455;\n",
              "      --disabled-fill-color: #666;\n",
              "  }\n",
              "\n",
              "  .colab-df-quickchart {\n",
              "    background-color: var(--bg-color);\n",
              "    border: none;\n",
              "    border-radius: 50%;\n",
              "    cursor: pointer;\n",
              "    display: none;\n",
              "    fill: var(--fill-color);\n",
              "    height: 32px;\n",
              "    padding: 0;\n",
              "    width: 32px;\n",
              "  }\n",
              "\n",
              "  .colab-df-quickchart:hover {\n",
              "    background-color: var(--hover-bg-color);\n",
              "    box-shadow: 0 1px 2px rgba(60, 64, 67, 0.3), 0 1px 3px 1px rgba(60, 64, 67, 0.15);\n",
              "    fill: var(--button-hover-fill-color);\n",
              "  }\n",
              "\n",
              "  .colab-df-quickchart-complete:disabled,\n",
              "  .colab-df-quickchart-complete:disabled:hover {\n",
              "    background-color: var(--disabled-bg-color);\n",
              "    fill: var(--disabled-fill-color);\n",
              "    box-shadow: none;\n",
              "  }\n",
              "\n",
              "  .colab-df-spinner {\n",
              "    border: 2px solid var(--fill-color);\n",
              "    border-color: transparent;\n",
              "    border-bottom-color: var(--fill-color);\n",
              "    animation:\n",
              "      spin 1s steps(1) infinite;\n",
              "  }\n",
              "\n",
              "  @keyframes spin {\n",
              "    0% {\n",
              "      border-color: transparent;\n",
              "      border-bottom-color: var(--fill-color);\n",
              "      border-left-color: var(--fill-color);\n",
              "    }\n",
              "    20% {\n",
              "      border-color: transparent;\n",
              "      border-left-color: var(--fill-color);\n",
              "      border-top-color: var(--fill-color);\n",
              "    }\n",
              "    30% {\n",
              "      border-color: transparent;\n",
              "      border-left-color: var(--fill-color);\n",
              "      border-top-color: var(--fill-color);\n",
              "      border-right-color: var(--fill-color);\n",
              "    }\n",
              "    40% {\n",
              "      border-color: transparent;\n",
              "      border-right-color: var(--fill-color);\n",
              "      border-top-color: var(--fill-color);\n",
              "    }\n",
              "    60% {\n",
              "      border-color: transparent;\n",
              "      border-right-color: var(--fill-color);\n",
              "    }\n",
              "    80% {\n",
              "      border-color: transparent;\n",
              "      border-right-color: var(--fill-color);\n",
              "      border-bottom-color: var(--fill-color);\n",
              "    }\n",
              "    90% {\n",
              "      border-color: transparent;\n",
              "      border-bottom-color: var(--fill-color);\n",
              "    }\n",
              "  }\n",
              "</style>\n",
              "\n",
              "      <script>\n",
              "        async function quickchart(key) {\n",
              "          const quickchartButtonEl =\n",
              "            document.querySelector('#' + key + ' button');\n",
              "          quickchartButtonEl.disabled = true;  // To prevent multiple clicks.\n",
              "          quickchartButtonEl.classList.add('colab-df-spinner');\n",
              "          try {\n",
              "            const charts = await google.colab.kernel.invokeFunction(\n",
              "                'suggestCharts', [key], {});\n",
              "          } catch (error) {\n",
              "            console.error('Error during call to suggestCharts:', error);\n",
              "          }\n",
              "          quickchartButtonEl.classList.remove('colab-df-spinner');\n",
              "          quickchartButtonEl.classList.add('colab-df-quickchart-complete');\n",
              "        }\n",
              "        (() => {\n",
              "          let quickchartButtonEl =\n",
              "            document.querySelector('#df-3286576e-79dc-401a-8d56-3cb16baf7a0b button');\n",
              "          quickchartButtonEl.style.display =\n",
              "            google.colab.kernel.accessAllowed ? 'block' : 'none';\n",
              "        })();\n",
              "      </script>\n",
              "    </div>\n",
              "\n",
              "    </div>\n",
              "  </div>\n"
            ],
            "application/vnd.google.colaboratory.intrinsic+json": {
              "type": "dataframe",
              "variable_name": "df",
              "summary": "{\n  \"name\": \"df\",\n  \"rows\": 24,\n  \"fields\": [\n    {\n      \"column\": \"year\",\n      \"properties\": {\n        \"dtype\": \"number\",\n        \"std\": 7,\n        \"min\": 2000,\n        \"max\": 2023,\n        \"num_unique_values\": 24,\n        \"samples\": [\n          2008,\n          2016,\n          2000\n        ],\n        \"semantic_type\": \"\",\n        \"description\": \"\"\n      }\n    },\n    {\n      \"column\": \"gdp_growth\",\n      \"properties\": {\n        \"dtype\": \"number\",\n        \"std\": 6.666288485650246,\n        \"min\": -1.8,\n        \"max\": 33.7,\n        \"num_unique_values\": 23,\n        \"samples\": [\n          -1.6,\n          7.0,\n          5.3\n        ],\n        \"semantic_type\": \"\",\n        \"description\": \"\"\n      }\n    },\n    {\n      \"column\": \"oil_exports\",\n      \"properties\": {\n        \"dtype\": \"number\",\n        \"std\": 381,\n        \"min\": 1312,\n        \"max\": 2520,\n        \"num_unique_values\": 21,\n        \"samples\": [\n          2118,\n          1312,\n          1810\n        ],\n        \"semantic_type\": \"\",\n        \"description\": \"\"\n      }\n    },\n    {\n      \"column\": \"inflation\",\n      \"properties\": {\n        \"dtype\": \"number\",\n        \"std\": 3.8734861465527706,\n        \"min\": 5.4,\n        \"max\": 18.9,\n        \"num_unique_values\": 24,\n        \"samples\": [\n          11.6,\n          15.7,\n          6.9\n        ],\n        \"semantic_type\": \"\",\n        \"description\": \"\"\n      }\n    },\n    {\n      \"column\": \"exchange_rate\",\n      \"properties\": {\n        \"dtype\": \"number\",\n        \"std\": 114.31820461792259,\n        \"min\": 102.11,\n        \"max\": 460.0,\n        \"num_unique_values\": 24,\n        \"samples\": [\n          118.57,\n          253.49,\n          102.11\n        ],\n        \"semantic_type\": \"\",\n        \"description\": \"\"\n      }\n    },\n    {\n      \"column\": \"oil_price\",\n      \"properties\": {\n        \"dtype\": \"number\",\n        \"std\": 24.93522297729732,\n        \"min\": 23.0,\n        \"max\": 97.98,\n        \"num_unique_values\": 24,\n        \"samples\": [\n          94.1,\n          43.73,\n          27.6\n        ],\n        \"semantic_type\": \"\",\n        \"description\": \"\"\n      }\n    }\n  ]\n}"
            }
          },
          "metadata": {},
          "execution_count": 2
        }
      ]
    },
    {
      "cell_type": "markdown",
      "source": [
        "Check types & missing"
      ],
      "metadata": {
        "id": "VPhuhVT8O6oU"
      }
    },
    {
      "cell_type": "code",
      "source": [
        "df.info()\n",
        "\n",
        "df.isna().sum()"
      ],
      "metadata": {
        "colab": {
          "base_uri": "https://localhost:8080/",
          "height": 498
        },
        "id": "OLAWjAmYOhUT",
        "outputId": "babecb05-47a5-4870-dc7e-7410ca5e7a8f"
      },
      "execution_count": 3,
      "outputs": [
        {
          "output_type": "stream",
          "name": "stdout",
          "text": [
            "<class 'pandas.core.frame.DataFrame'>\n",
            "RangeIndex: 24 entries, 0 to 23\n",
            "Data columns (total 6 columns):\n",
            " #   Column         Non-Null Count  Dtype  \n",
            "---  ------         --------------  -----  \n",
            " 0   year           24 non-null     int64  \n",
            " 1   gdp_growth     24 non-null     float64\n",
            " 2   oil_exports    24 non-null     int64  \n",
            " 3   inflation      24 non-null     float64\n",
            " 4   exchange_rate  24 non-null     float64\n",
            " 5   oil_price      24 non-null     float64\n",
            "dtypes: float64(4), int64(2)\n",
            "memory usage: 1.3 KB\n"
          ]
        },
        {
          "output_type": "execute_result",
          "data": {
            "text/plain": [
              "year             0\n",
              "gdp_growth       0\n",
              "oil_exports      0\n",
              "inflation        0\n",
              "exchange_rate    0\n",
              "oil_price        0\n",
              "dtype: int64"
            ],
            "text/html": [
              "<div>\n",
              "<style scoped>\n",
              "    .dataframe tbody tr th:only-of-type {\n",
              "        vertical-align: middle;\n",
              "    }\n",
              "\n",
              "    .dataframe tbody tr th {\n",
              "        vertical-align: top;\n",
              "    }\n",
              "\n",
              "    .dataframe thead th {\n",
              "        text-align: right;\n",
              "    }\n",
              "</style>\n",
              "<table border=\"1\" class=\"dataframe\">\n",
              "  <thead>\n",
              "    <tr style=\"text-align: right;\">\n",
              "      <th></th>\n",
              "      <th>0</th>\n",
              "    </tr>\n",
              "  </thead>\n",
              "  <tbody>\n",
              "    <tr>\n",
              "      <th>year</th>\n",
              "      <td>0</td>\n",
              "    </tr>\n",
              "    <tr>\n",
              "      <th>gdp_growth</th>\n",
              "      <td>0</td>\n",
              "    </tr>\n",
              "    <tr>\n",
              "      <th>oil_exports</th>\n",
              "      <td>0</td>\n",
              "    </tr>\n",
              "    <tr>\n",
              "      <th>inflation</th>\n",
              "      <td>0</td>\n",
              "    </tr>\n",
              "    <tr>\n",
              "      <th>exchange_rate</th>\n",
              "      <td>0</td>\n",
              "    </tr>\n",
              "    <tr>\n",
              "      <th>oil_price</th>\n",
              "      <td>0</td>\n",
              "    </tr>\n",
              "  </tbody>\n",
              "</table>\n",
              "</div><br><label><b>dtype:</b> int64</label>"
            ]
          },
          "metadata": {},
          "execution_count": 3
        }
      ]
    },
    {
      "cell_type": "markdown",
      "source": [
        "**Exploratory Analysis**"
      ],
      "metadata": {
        "id": "z3ndRSM0PYF2"
      }
    },
    {
      "cell_type": "markdown",
      "source": [
        "Time-series trends"
      ],
      "metadata": {
        "id": "iwcEedCWQ8ci"
      }
    },
    {
      "cell_type": "code",
      "source": [
        "plt.figure()\n",
        "plt.plot(df['year'], df['gdp_growth'], marker='o')\n",
        "plt.title('GDP Growth Rate (2000–2023)')\n",
        "plt.xlabel('Year'); plt.ylabel('GDP Growth (%)')\n",
        "plt.show()\n",
        "\n",
        "plt.savefig('gdp_growth.png')"
      ],
      "metadata": {
        "colab": {
          "base_uri": "https://localhost:8080/",
          "height": 489
        },
        "id": "loY-FfCzQPhu",
        "outputId": "87ae2057-7b72-4c33-d0a2-b4883a2bc0a8"
      },
      "execution_count": 4,
      "outputs": [
        {
          "output_type": "display_data",
          "data": {
            "text/plain": [
              "<Figure size 640x480 with 1 Axes>"
            ],
            "image/png": "[encoded data removed]"
          },
          "metadata": {}
        },
        {
          "output_type": "display_data",
          "data": {
            "text/plain": [
              "<Figure size 640x480 with 0 Axes>"
            ]
          },
          "metadata": {}
        }
      ]
    },
    {
      "cell_type": "markdown",
      "source": [
        "Scatter & correlation"
      ],
      "metadata": {
        "id": "lSNvvNEkRUpm"
      }
    },
    {
      "cell_type": "code",
      "source": [
        "plt.figure(figsize=(8, 6))\n",
        "sns.scatterplot(x='oil_price', y='gdp_growth', data=df)\n",
        "plt.title('Oil Price vs. GDP Growth')\n",
        "plt.xlabel('Oil Price (USD/barrel)'); plt.ylabel('GDP Growth (%)')\n",
        "plt.show()\n",
        "\n",
        "correlation = df['oil_price'].corr(df['gdp_growth'])\n",
        "print(f'Correlation between oil price and GDP growth: {correlation}')\n",
        "\n",
        "plt.savefig('oil_price_gdp_growth.png')\n"
      ],
      "metadata": {
        "colab": {
          "base_uri": "https://localhost:8080/",
          "height": 599
        },
        "id": "waZox9VVRW_9",
        "outputId": "83df5554-7c2d-4037-bc41-56b2c13d60a0"
      },
      "execution_count": 5,
      "outputs": [
        {
          "output_type": "display_data",
          "data": {
            "text/plain": [
              "<Figure size 800x600 with 1 Axes>"
            ],
            "image/png": "[encoded data removed]"
          },
          "metadata": {}
        },
        {
          "output_type": "stream",
          "name": "stdout",
          "text": [
            "Correlation between oil price and GDP growth: -0.14126772470816873\n"
          ]
        },
        {
          "output_type": "display_data",
          "data": {
            "text/plain": [
              "<Figure size 640x480 with 0 Axes>"
            ]
          },
          "metadata": {}
        }
      ]
    },
    {
      "cell_type": "code",
      "source": [
        "plt.figure(figsize=(15,10))\n",
        "sns.heatmap(df.corr(), annot=True)\n",
        "\n",
        "plt.savefig('heatmap.png')"
      ],
      "metadata": {
        "colab": {
          "base_uri": "https://localhost:8080/",
          "height": 704
        },
        "id": "OgdY03_DPaD4",
        "outputId": "7ab9d289-74a5-4b24-9e02-011d9cbb7b14"
      },
      "execution_count": 6,
      "outputs": [
        {
          "output_type": "display_data",
          "data": {
            "text/plain": [
              "<Figure size 1500x1000 with 2 Axes>"
            ],
            "image/png": "[encoded data removed]"
          },
          "metadata": {}
        }
      ]
    },
    {
      "cell_type": "markdown",
      "source": [
        "**Stationarity & Cointegration**"
      ],
      "metadata": {
        "id": "0B5z4n9OSbh7"
      }
    },
    {
      "cell_type": "code",
      "source": [
        "from statsmodels.tsa.stattools import adfuller\n",
        "def adf_test(series, name):\n",
        "    result = adfuller(series.dropna())\n",
        "    print(f'ADF {name}: p-value = {result[1]:.4f}')\n",
        "\n",
        "for series in ['gdp_growth','oil_exports','oil_price','inflation','exchange_rate']:\n",
        "    adf_test(df[series], series)\n",
        "plt.savefig('adf.png')"
      ],
      "metadata": {
        "colab": {
          "base_uri": "https://localhost:8080/",
          "height": 121
        },
        "id": "Y8Qi6PS9Swwx",
        "outputId": "834b39ae-46f1-4651-e869-2967b4a70770"
      },
      "execution_count": 7,
      "outputs": [
        {
          "output_type": "stream",
          "name": "stdout",
          "text": [
            "ADF gdp_growth: p-value = 0.0034\n",
            "ADF oil_exports: p-value = 0.0000\n",
            "ADF oil_price: p-value = 0.2299\n",
            "ADF inflation: p-value = 0.9388\n",
            "ADF exchange_rate: p-value = 0.9987\n"
          ]
        },
        {
          "output_type": "display_data",
          "data": {
            "text/plain": [
              "<Figure size 640x480 with 0 Axes>"
            ]
          },
          "metadata": {}
        }
      ]
    },
    {
      "cell_type": "markdown",
      "source": [
        "Here's a breakdown of your ADF test results:\n",
        "\n",
        "ADF gdp_growth: p-value = 0.0034: The p-value is less than 0.05, suggesting that we reject the null hypothesis. This indicates that the gdp_growth series is stationary.\n",
        "\n",
        "ADF oil_exports: p-value = 0.0000: The p-value is much less than 0.05, strongly suggesting that we reject the null hypothesis. This indicates that the oil_exports series is stationary.\n",
        "\n",
        "ADF oil_price: p-value = 0.2299: The p-value is greater than 0.05, indicating that we fail to reject the null hypothesis. This suggests that the oil_price series is non-stationary.\n",
        "\n",
        "ADF inflation: p-value = 0.9388: The p-value is much greater than 0.05, strongly suggesting that we fail to reject the null hypothesis. This indicates that the inflation series is non-stationary.\n",
        "\n",
        "ADF exchange_rate: p-value = 0.9987: The p-value is much greater than 0.05, strongly suggesting that we fail to reject the null hypothesis. This indicates that the exchange_rate series is non-stationary."
      ],
      "metadata": {
        "id": "YJtHSun-VN1L"
      }
    },
    {
      "cell_type": "markdown",
      "source": [
        "Based on these results, we can conclude the following:\n",
        "\n",
        "gdp_growth and oil_exports are likely stationary time series.\n",
        "oil_price, inflation, and exchange_rate are likely non-stationary time series."
      ],
      "metadata": {
        "id": "rWK635MXVB7R"
      }
    },
    {
      "cell_type": "markdown",
      "source": [],
      "metadata": {
        "id": "Hs13x6-2VFUg"
      }
    },
    {
      "cell_type": "code",
      "source": [
        "df['d_oil_price']   = df['oil_price'].diff()\n",
        "df['d_inflation'] = df['inflation'].diff()\n",
        "df['d_exchange_rate']  = df['exchange_rate'].diff()\n"
      ],
      "metadata": {
        "id": "Ju-rwBZ1VRx9"
      },
      "execution_count": 8,
      "outputs": []
    },
    {
      "cell_type": "markdown",
      "source": [
        "**OLS Regression**"
      ],
      "metadata": {
        "id": "esfXthhHVzFZ"
      }
    },
    {
      "cell_type": "code",
      "source": [
        "# prompt: OLS Regression\n",
        "\n",
        "import statsmodels.api as sm\n",
        "\n",
        "# Define the dependent and independent variables\n",
        "y = df['gdp_growth']\n",
        "X = df[['oil_price', 'oil_exports', 'inflation', 'exchange_rate']]\n",
        "\n",
        "# Add a constant to the independent variables\n",
        "X = sm.add_constant(X)\n",
        "\n",
        "# Fit the OLS regression model\n",
        "model = sm.OLS(y, X).fit()\n",
        "\n",
        "# Print the regression results\n",
        "print(model.summary())\n",
        "\n",
        "plt.savefig('ols_regression.png')\n"
      ],
      "metadata": {
        "colab": {
          "base_uri": "https://localhost:8080/",
          "height": 555
        },
        "id": "3e9OnlJwV6IU",
        "outputId": "ee90a12b-4727-4924-e8c6-87ce955cca40"
      },
      "execution_count": 9,
      "outputs": [
        {
          "output_type": "stream",
          "name": "stdout",
          "text": [
            "                            OLS Regression Results                            \n",
            "==============================================================================\n",
            "Dep. Variable:             gdp_growth   R-squared:                       0.271\n",
            "Model:                            OLS   Adj. R-squared:                  0.118\n",
            "Method:                 Least Squares   F-statistic:                     1.767\n",
            "Date:                Tue, 29 Apr 2025   Prob (F-statistic):              0.177\n",
            "Time:                        21:40:24   Log-Likelihood:                -75.279\n",
            "No. Observations:                  24   AIC:                             160.6\n",
            "Df Residuals:                      19   BIC:                             166.4\n",
            "Df Model:                           4                                         \n",
            "Covariance Type:            nonrobust                                         \n",
            "=================================================================================\n",
            "                    coef    std err          t      P>|t|      [0.025      0.975]\n",
            "---------------------------------------------------------------------------------\n",
            "const           -20.6713     18.798     -1.100      0.285     -60.016      18.673\n",
            "oil_price        -0.0640      0.070     -0.912      0.373      -0.211       0.083\n",
            "oil_exports       0.0128      0.008      1.579      0.131      -0.004       0.030\n",
            "inflation         0.0807      0.437      0.185      0.855      -0.834       0.995\n",
            "exchange_rate     0.0158      0.031      0.511      0.615      -0.049       0.081\n",
            "==============================================================================\n",
            "Omnibus:                       40.720   Durbin-Watson:                   2.254\n",
            "Prob(Omnibus):                  0.000   Jarque-Bera (JB):              144.706\n",
            "Skew:                           3.003   Prob(JB):                     3.78e-32\n",
            "Kurtosis:                      13.423   Cond. No.                     3.02e+04\n",
            "==============================================================================\n",
            "\n",
            "Notes:\n",
            "[1] Standard Errors assume that the covariance matrix of the errors is correctly specified.\n",
            "[2] The condition number is large, 3.02e+04. This might indicate that there are\n",
            "strong multicollinearity or other numerical problems.\n"
          ]
        },
        {
          "output_type": "display_data",
          "data": {
            "text/plain": [
              "<Figure size 640x480 with 0 Axes>"
            ]
          },
          "metadata": {}
        }
      ]
    },
    {
      "cell_type": "markdown",
      "source": [
        "Overall Model Fit:\n",
        "\n",
        "R-squared (0.271): This indicates that the model explains about 27.1% of the variance in GDP growth. This is a relatively low R-squared, suggesting that the independent variables included in the model do not fully capture the factors influencing GDP growth.\n",
        "Adj. R-squared (0.118): The adjusted R-squared is even lower, indicating that the model might be overfitting the data to some extent.\n",
        "F-statistic (1.767, p-value = 0.177): The F-statistic tests the overall significance of the model. The relatively high p-value suggests that the model is not statistically significant as a whole. This means that the independent variables, together, do not have a significant impact on GDP growth.\n",
        "Coefficients:\n",
        "\n",
        "const (-20.6713, p-value = 0.285): This is the intercept of the regression line. It is not statistically significant.\n",
        "oil_price (-0.0640, p-value = 0.373): The coefficient for oil price is negative and not statistically significant. This suggests that changes in oil price do not have a significant effect on GDP growth, at least not in a linear way.\n",
        "oil_exports (0.0128, p-value = 0.131): The coefficient for oil exports is positive and also not statistically significant, although it is closer to significance than the other variables. This suggests that increases in oil exports might be associated with increases in GDP growth, but the relationship is not statistically strong.\n",
        "inflation (0.0807, p-value = 0.855): The coefficient for inflation is positive but not statistically significant. This indicates that changes in inflation do not have a significant effect on GDP growth.\n",
        "exchange_rate (0.0158, p-value = 0.615): The coefficient for the exchange rate is positive and not statistically significant. This implies that changes in the exchange rate do not have a significant effect on GDP growth.\n",
        "Overall Interpretation:\n",
        "\n",
        "The OLS regression results suggest that the model, as specified, does not provide a strong explanation for variations in GDP growth. None of the independent variables (oil price, oil exports, inflation, exchange rate) have statistically significant coefficients. This could be due to a variety of reasons:\n",
        "\n",
        "Missing Variables: There might be other important factors influencing GDP growth that are not included in the model.\n",
        "Nonlinear Relationships: The relationship between GDP growth and the independent variables might be nonlinear. You could explore nonlinear transformations of the variables or consider using different regression techniques.\n",
        "Data Limitations: The dataset might be too small or not representative enough to capture the true relationships between the variables.\n",
        "Cointegration: The time-series properties of the variables, especially if they are non-stationary, might need to be considered more carefully. You could explore techniques like vector autoregression (VAR) or error correction models (ECM) if cointegration is present.\n",
        "Important Notes:\n",
        "\n",
        "Causality: Remember that correlation does not imply causation.\n",
        "Model Assumptions: You should check the assumptions of OLS regression to ensure the validity of the results. This includes testing for linearity, homoscedasticity, and multicollinearity."
      ],
      "metadata": {
        "id": "UOPTcklLXqKS"
      }
    }
  ]
}